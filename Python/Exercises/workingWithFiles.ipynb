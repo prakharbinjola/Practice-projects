{
 "cells": [
  {
   "cell_type": "code",
   "execution_count": 1,
   "id": "d0c69995",
   "metadata": {},
   "outputs": [
    {
     "name": "stdout",
     "output_type": "stream",
     "text": [
      "Varun\n",
      "Varun lol\n"
     ]
    }
   ],
   "source": [
    "pow = input()\n",
    "x = (pow + \" lol\")\n",
    "print(x)"
   ]
  },
  {
   "cell_type": "code",
   "execution_count": 2,
   "id": "53fd3e2b",
   "metadata": {},
   "outputs": [],
   "source": [
    "f = open(\"iAmATextFile.txt\", \"w\")"
   ]
  },
  {
   "cell_type": "code",
   "execution_count": 4,
   "id": "e5717460",
   "metadata": {},
   "outputs": [
    {
     "name": "stdout",
     "output_type": "stream",
     "text": [
      "\n"
     ]
    }
   ],
   "source": [
    "f = open(\"iAmATextFile.txt\")\n",
    "print(f.read())\n",
    "f.close()"
   ]
  },
  {
   "cell_type": "code",
   "execution_count": 1,
   "id": "07719a08",
   "metadata": {},
   "outputs": [
    {
     "name": "stdout",
     "output_type": "stream",
     "text": [
      "This is the first line.\n",
      "Now I'm on a new line.\n",
      "Will the kernel catch me?\n",
      " This is line 1.\n",
      " This is line 2.\n",
      " This is line 3.\n",
      " This is line 4.\n",
      " This is line 5.\n",
      " This is line 6.\n",
      " This is line 7.\n",
      " This is line 8.\n",
      " This is line 9.\n",
      " This is line 10.\n",
      "Will this print the amount written?\n",
      "Will this print the amount written?\n",
      "Will this print the amount written?\n",
      "Will this print the amount written?\n",
      "Will this print the amount written?This is written using writelines()\n"
     ]
    }
   ],
   "source": [
    "f = open(\"C:\\\\Users\\\\Prakhar\\\\Downloads\\\\Python\\\\Exercises\\\\iAmATextFile.txt\")\n",
    "print(f.read())\n",
    "f.close()"
   ]
  },
  {
   "cell_type": "code",
   "execution_count": null,
   "id": "94bf8e9a",
   "metadata": {},
   "outputs": [],
   "source": [
    "f = open(r\"C:\\Users\\Prakhar\\Downloads\\Python\\Exercises\\iAmATextFile.txt\")\n",
    "print(f.read())\n",
    "f.close()"
   ]
  },
  {
   "cell_type": "code",
   "execution_count": null,
   "id": "ef297921",
   "metadata": {},
   "outputs": [],
   "source": [
    "f = open(r\"C:/Users/Prakhar/Downloads/Python/Exercises/iAmATextFile.txt\")\n",
    "print(f.read())\n",
    "f.close()"
   ]
  },
  {
   "cell_type": "markdown",
   "id": "10d79a03",
   "metadata": {},
   "source": [
    "Don't need to close using with open()"
   ]
  },
  {
   "cell_type": "code",
   "execution_count": 2,
   "id": "8cebd10d",
   "metadata": {},
   "outputs": [
    {
     "name": "stdout",
     "output_type": "stream",
     "text": [
      "This is the first line.\n",
      "Now I'm on a new line.\n",
      "Will the kernel catch me?\n",
      " This is line 1.\n",
      " This is line 2.\n",
      " This is line 3.\n",
      " This is line 4.\n",
      " This is line 5.\n",
      " This is line 6.\n",
      " This is line 7.\n",
      " This is line 8.\n",
      " This is line 9.\n",
      " This is line 10.\n",
      "Will this print the amount written?\n",
      "Will this print the amount written?\n",
      "Will this print the amount written?\n",
      "Will this print the amount written?\n",
      "Will this print the amount written?This is written using writelines()\n"
     ]
    }
   ],
   "source": [
    "with open(\"iAmATextFile.txt\") as file:\n",
    "    print(file.read())"
   ]
  },
  {
   "cell_type": "markdown",
   "id": "2055d60a",
   "metadata": {},
   "source": [
    "1 byte is equal to 1 ASCII character."
   ]
  },
  {
   "cell_type": "code",
   "execution_count": 3,
   "id": "01f2eedf",
   "metadata": {},
   "outputs": [
    {
     "name": "stdout",
     "output_type": "stream",
     "text": [
      "This  \n",
      "\n",
      "is t \n",
      "\n",
      "he first line.\n",
      "Now I'm on a new line.\n",
      "Will the kernel catch me?\n",
      " This is line 1.\n",
      " This is line 2.\n",
      " This is line 3.\n",
      " This is line 4.\n",
      " This is line 5.\n",
      " This is line 6.\n",
      " This is line 7.\n",
      " This is line 8.\n",
      " This is line 9.\n",
      " This is line 10.\n",
      "Will this print the amount written?\n",
      "Will this print the amount written?\n",
      "Will this print the amount written?\n",
      "Will this print the amount written?\n",
      "Will this print the amount written?This is written using writelines()\n",
      " \n",
      "\n"
     ]
    }
   ],
   "source": [
    "f = open(r\"C:/Users/Prakhar/Downloads/Python/Exercises/iAmATextFile.txt\")\n",
    "print(f.read(5), \"\\n\")\n",
    "print(f.read(4), \"\\n\")\n",
    "print(f.read()) #will retrurn the rest of the file\n",
    "print(f.read(5), \"\\n\")\n",
    "f.close()"
   ]
  },
  {
   "cell_type": "code",
   "execution_count": 14,
   "id": "92c0366c",
   "metadata": {},
   "outputs": [
    {
     "name": "stdout",
     "output_type": "stream",
     "text": [
      "0 1 2 3 4 5 6 7 8 9 10 11 12 13 14 15 16 17 18 19 20 "
     ]
    },
    {
     "data": {
      "text/plain": [
       "21"
      ]
     },
     "execution_count": 14,
     "metadata": {},
     "output_type": "execute_result"
    }
   ],
   "source": [
    "for i in range(21):\n",
    "    print(i, end = \" \")\n",
    "len(range(21))"
   ]
  },
  {
   "cell_type": "code",
   "execution_count": 15,
   "id": "e4365be6",
   "metadata": {
    "scrolled": true
   },
   "outputs": [
    {
     "name": "stdout",
     "output_type": "stream",
     "text": [
      "This is the first line.\n",
      "\n",
      "Now I'm on a new line.\n",
      "\n",
      "Will the kernel catch me?\n"
     ]
    }
   ],
   "source": [
    "f = open(\"iAmATextFile.txt\")\n",
    "for line in f.readlines():\n",
    "    print(line)\n",
    "f.close()"
   ]
  },
  {
   "cell_type": "markdown",
   "id": "5a84a301",
   "metadata": {},
   "source": [
    ".readlines() returns a list in each element is a line"
   ]
  },
  {
   "cell_type": "code",
   "execution_count": 17,
   "id": "a042227c",
   "metadata": {},
   "outputs": [
    {
     "name": "stdout",
     "output_type": "stream",
     "text": [
      "['This is the first line.\\n', \"Now I'm on a new line.\\n\", 'Will the kernel catch me?']\n"
     ]
    }
   ],
   "source": [
    "f = open(\"iAmATextFile.txt\")\n",
    "print(f.readlines())\n",
    "f.close()"
   ]
  },
  {
   "cell_type": "code",
   "execution_count": 24,
   "id": "44d3b5a1",
   "metadata": {},
   "outputs": [
    {
     "name": "stdout",
     "output_type": "stream",
     "text": [
      "This is the first line.\n",
      "\n",
      "Now I'm on a new line.\n",
      "\n",
      "Will the kernel catch me?\n"
     ]
    }
   ],
   "source": [
    "f = open(\"iAmATextFile.txt\")\n",
    "for line in f:\n",
    "    print(line)\n",
    "f.close()"
   ]
  },
  {
   "cell_type": "code",
   "execution_count": 28,
   "id": "81aa9c89",
   "metadata": {},
   "outputs": [
    {
     "name": "stdout",
     "output_type": "stream",
     "text": [
      "This is the first line.\n",
      "Now I'm on a new line.\n",
      "Will the kernel catch me?"
     ]
    }
   ],
   "source": [
    "f = open(\"iAmATextFile.txt\")\n",
    "for line in f:\n",
    "    print(line, end = \"\")\n",
    "f.close()"
   ]
  },
  {
   "cell_type": "code",
   "execution_count": 29,
   "id": "a3f23d1b",
   "metadata": {},
   "outputs": [
    {
     "name": "stdout",
     "output_type": "stream",
     "text": [
      "This is the first line.\n",
      "Now I'm on a new line.\n",
      "Will the kernel catch me?\n"
     ]
    }
   ],
   "source": [
    "f = open(\"iAmATextFile.txt\")\n",
    "for line in f:\n",
    "    print(line.strip())\n",
    "f.close()"
   ]
  },
  {
   "cell_type": "code",
   "execution_count": 36,
   "id": "df97e098",
   "metadata": {
    "scrolled": true
   },
   "outputs": [
    {
     "name": "stdout",
     "output_type": "stream",
     "text": [
      "This is the first line.\n",
      "Now I'm on a new line.\n",
      "Will the kernel catch me?\n",
      " This is line 1.\n",
      " This is line 2.\n",
      " This is line 3.\n",
      " This is line 4.\n",
      " This is line 5.\n",
      " This is line 6.\n",
      " This is line 7.\n",
      " This is line 8.\n",
      " This is line 9.\n",
      " This is line 10.\n"
     ]
    }
   ],
   "source": [
    "file = open(\"iAmATextFile.txt\", \"a+\")\n",
    "for i in range(10):\n",
    "    file.write(f\"\\n This is line {i + 1}.\")\n",
    "file.seek(0)\n",
    "print(file.read())\n",
    "file.close()"
   ]
  },
  {
   "cell_type": "markdown",
   "id": "75b4a9d1",
   "metadata": {},
   "source": [
    "file.write() will return the bytes written as an integer."
   ]
  },
  {
   "cell_type": "code",
   "execution_count": 39,
   "id": "dcf7b9a6",
   "metadata": {},
   "outputs": [
    {
     "name": "stdout",
     "output_type": "stream",
     "text": [
      "36\n",
      "<class 'int'>\n"
     ]
    }
   ],
   "source": [
    "file = open(\"iAmATextFile.txt\", \"a\")\n",
    "print(file.write(\"\\nWill this print the amount written?\"))\n",
    "print(type(file.write(\"\\nWill this print the amount written?\")))\n",
    "file.close()"
   ]
  },
  {
   "cell_type": "code",
   "execution_count": 43,
   "id": "6fa7fb71",
   "metadata": {},
   "outputs": [
    {
     "name": "stdout",
     "output_type": "stream",
     "text": [
      "29\n"
     ]
    }
   ],
   "source": [
    "import random\n",
    "print(random.randint(1,30))"
   ]
  },
  {
   "cell_type": "code",
   "execution_count": 59,
   "id": "4655ca29",
   "metadata": {},
   "outputs": [
    {
     "data": {
      "text/plain": [
       "2.8782047469798813"
      ]
     },
     "execution_count": 59,
     "metadata": {},
     "output_type": "execute_result"
    }
   ],
   "source": [
    "random.uniform(1,3)"
   ]
  },
  {
   "cell_type": "code",
   "execution_count": 75,
   "id": "4b36f5ff",
   "metadata": {},
   "outputs": [
    {
     "name": "stdout",
     "output_type": "stream",
     "text": [
      "0-1-2-3-4-5-6-7-8-9-"
     ]
    }
   ],
   "source": [
    "for i in range(10):\n",
    "    print(i, end = \"-\")"
   ]
  },
  {
   "cell_type": "code",
   "execution_count": 10,
   "id": "ab2ea6e6",
   "metadata": {},
   "outputs": [
    {
     "name": "stdout",
     "output_type": "stream",
     "text": [
      "0-1-2-3-4-5-6-7-8-9-\n"
     ]
    }
   ],
   "source": [
    "a = \"\"\n",
    "for i in range(10):\n",
    "    a += str(i)\n",
    "    a += \"-\"\n",
    "print(a)"
   ]
  },
  {
   "cell_type": "code",
   "execution_count": 1,
   "id": "37a99eb5",
   "metadata": {},
   "outputs": [
    {
     "name": "stdout",
     "output_type": "stream",
     "text": [
      "8\n"
     ]
    },
    {
     "data": {
      "text/plain": [
       "str"
      ]
     },
     "execution_count": 1,
     "metadata": {},
     "output_type": "execute_result"
    }
   ],
   "source": [
    "num = 8\n",
    "converted_num = str(num)\n",
    "print(converted_num)\n",
    "type(converted_num)"
   ]
  },
  {
   "cell_type": "code",
   "execution_count": 11,
   "id": "f4d6d36f",
   "metadata": {},
   "outputs": [
    {
     "name": "stdout",
     "output_type": "stream",
     "text": [
      "440\n"
     ]
    }
   ],
   "source": [
    "file = open(\"iAmATextFile.txt\", \"a\")\n",
    "print(file.tell())\n",
    "file.close()"
   ]
  },
  {
   "cell_type": "code",
   "execution_count": 12,
   "id": "fae07f3e",
   "metadata": {
    "scrolled": true
   },
   "outputs": [
    {
     "name": "stdout",
     "output_type": "stream",
     "text": [
      "0\n"
     ]
    }
   ],
   "source": [
    "file = open(\"iAmATextFile.txt\")\n",
    "print(file.tell())\n",
    "file.close()"
   ]
  },
  {
   "cell_type": "code",
   "execution_count": 23,
   "id": "e901f273",
   "metadata": {},
   "outputs": [
    {
     "data": {
      "text/plain": [
       "False"
      ]
     },
     "execution_count": 23,
     "metadata": {},
     "output_type": "execute_result"
    }
   ],
   "source": [
    "bool(10 == True)"
   ]
  },
  {
   "cell_type": "code",
   "execution_count": 56,
   "id": "19edf4e9",
   "metadata": {},
   "outputs": [
    {
     "name": "stdout",
     "output_type": "stream",
     "text": [
      "This is the first line.\n",
      "\n",
      "Now I'm on a new line.\n",
      "\n",
      "Will the kernel catch me?\n",
      "\n",
      " This is line 1.\n",
      "\n",
      " This is line 2.\n",
      "\n",
      " This is line 3.\n",
      "\n",
      " This is line 4.\n",
      "\n",
      " This is line 5.\n",
      "\n",
      " This is line 6.\n",
      "\n",
      " This is line 7.\n",
      "\n",
      " This is line 8.\n",
      "\n",
      " This is line 9.\n",
      "\n",
      " This is line 10.\n",
      "\n",
      "Will this print the amount written?\n",
      "\n",
      "Will this print the amount written?\n",
      "\n",
      "Will this print the amount written?\n",
      "\n",
      "Will this print the amount written?\n",
      "\n",
      "Will this print the amount written?\n",
      "[24, 23, 26, 17, 17, 17, 17, 17, 17, 17, 17, 17, 18, 36, 36, 36, 36, 35]\n"
     ]
    }
   ],
   "source": [
    "ctr = []\n",
    "file = open(\"iAmATextFile.txt\")\n",
    "for line in file.readlines():\n",
    "    print(line)\n",
    "    ctr.append(len(line))\n",
    "file.close()\n",
    "print(ctr)"
   ]
  },
  {
   "cell_type": "code",
   "execution_count": 57,
   "id": "453cba97",
   "metadata": {},
   "outputs": [
    {
     "name": "stdout",
     "output_type": "stream",
     "text": [
      "b\"This is the first line.\\r\\nNow I'm on a new line.\\r\\nWill the kernel catch me?\\r\\n This is line 1.\\r\\n This is line 2.\\r\\n This is line 3.\\r\\n This is line 4.\\r\\n This is line 5.\\r\\n This is line 6.\\r\\n This is line 7.\\r\\n This is line 8.\\r\\n This is line 9.\\r\\n This is line 10.\\r\\nWill this print the amount written?\\r\\nWill this print the amount written?\\r\\nWill this print the amount written?\\r\\nWill this print the amount written?\\r\\nWill this print the amount written?\"\n"
     ]
    }
   ],
   "source": [
    "file = open(\"iAmATextFile.txt\", \"rb\")\n",
    "print(file.read())\n",
    "file.close()"
   ]
  },
  {
   "cell_type": "code",
   "execution_count": 58,
   "id": "6cc5fee1",
   "metadata": {},
   "outputs": [
    {
     "data": {
      "text/plain": [
       "['heheh', 'heheh']"
      ]
     },
     "execution_count": 58,
     "metadata": {},
     "output_type": "execute_result"
    }
   ],
   "source": [
    "\"heheh heheh\".split()"
   ]
  },
  {
   "cell_type": "code",
   "execution_count": 72,
   "id": "9f3a7fb5",
   "metadata": {},
   "outputs": [
    {
     "name": "stdout",
     "output_type": "stream",
     "text": [
      "Line 1: 19 characters\n",
      "Line 2: 17 characters\n",
      "Line 3: 21 characters\n",
      "Line 4: 12 characters\n",
      "Line 5: 12 characters\n",
      "Line 6: 12 characters\n",
      "Line 7: 12 characters\n",
      "Line 8: 12 characters\n",
      "Line 9: 12 characters\n",
      "Line 10: 12 characters\n",
      "Line 11: 12 characters\n",
      "Line 12: 12 characters\n",
      "Line 13: 13 characters\n",
      "Line 14: 30 characters\n",
      "Line 15: 30 characters\n",
      "Line 16: 30 characters\n",
      "Line 17: 30 characters\n",
      "Line 18: 30 characters\n"
     ]
    }
   ],
   "source": [
    "with open(\"iAmATextFile.txt\") as f:\n",
    "#your code goes here\n",
    "    ctr = []\n",
    "    lineno = 1\n",
    "    for line in f.readlines():\n",
    "        line = line.split()\n",
    "        sum = 0\n",
    "        for ctr in range(len(line)):\n",
    "            sum += len(line[ctr])\n",
    "        print(f\"Line {lineno}: {sum} characters\")\n",
    "        lineno +=1"
   ]
  },
  {
   "cell_type": "code",
   "execution_count": 73,
   "id": "fd7728ab",
   "metadata": {},
   "outputs": [
    {
     "name": "stdout",
     "output_type": "stream",
     "text": [
      "Line 1: 5 words\n",
      "Line 2: 6 words\n",
      "Line 3: 5 words\n",
      "Line 4: 4 words\n",
      "Line 5: 4 words\n",
      "Line 6: 4 words\n",
      "Line 7: 4 words\n",
      "Line 8: 4 words\n",
      "Line 9: 4 words\n",
      "Line 10: 4 words\n",
      "Line 11: 4 words\n",
      "Line 12: 4 words\n",
      "Line 13: 4 words\n",
      "Line 14: 6 words\n",
      "Line 15: 6 words\n",
      "Line 16: 6 words\n",
      "Line 17: 6 words\n",
      "Line 18: 6 words\n"
     ]
    }
   ],
   "source": [
    "with open(\"iAmATextFile.txt\") as f:\n",
    "#your code goes here\n",
    "    lineno = 1\n",
    "    for line in f.readlines():\n",
    "         line = line.split()\n",
    "         print(f\"Line {lineno}: {len(line)} words\")\n",
    "         lineno += 1"
   ]
  },
  {
   "cell_type": "code",
   "execution_count": 81,
   "id": "6cdf3020",
   "metadata": {
    "collapsed": true
   },
   "outputs": [
    {
     "name": "stdout",
     "output_type": "stream",
     "text": [
      "Titfl\n",
      "\n",
      "NIoanl\n",
      "\n",
      "Wtkcm\n",
      "\n",
      "Til1\n",
      "\n",
      "Til2\n",
      "\n",
      "Til3\n",
      "\n",
      "Til4\n",
      "\n",
      "Til5\n",
      "\n",
      "Til6\n",
      "\n",
      "Til7\n",
      "\n",
      "Til8\n",
      "\n",
      "Til9\n",
      "\n",
      "Til1\n",
      "\n",
      "Wtptaw\n",
      "\n",
      "Wtptaw\n",
      "\n",
      "Wtptaw\n",
      "\n",
      "Wtptaw\n",
      "\n",
      "Wtptaw\n",
      "\n"
     ]
    }
   ],
   "source": [
    "file = open(\"iAmATextFile.txt\", \"r\")\n",
    "\n",
    "#your code goes here\n",
    "for line in file.readlines():\n",
    "    line = line.split()\n",
    "    for i in range(len(line)):\n",
    "        print(line[i][0], end = \"\")\n",
    "    print(\"\\n\")\n",
    "file.close()"
   ]
  },
  {
   "cell_type": "code",
   "execution_count": 6,
   "id": "9cc44182",
   "metadata": {},
   "outputs": [
    {
     "name": "stdout",
     "output_type": "stream",
     "text": [
      "<class 'str'>\n"
     ]
    }
   ],
   "source": [
    "with open(\"iAmATextFile.txt\") as f:\n",
    "    print(type(f.readline()))"
   ]
  },
  {
   "cell_type": "code",
   "execution_count": 8,
   "id": "199bef59",
   "metadata": {},
   "outputs": [],
   "source": [
    "with open(\"iAmATextFile.txt\", \"a+\") as f:\n",
    "    f.writelines(\"This is written using writelines()\")"
   ]
  },
  {
   "cell_type": "code",
   "execution_count": 30,
   "id": "79523ae1",
   "metadata": {},
   "outputs": [
    {
     "name": "stdout",
     "output_type": "stream",
     "text": [
      "-\n"
     ]
    }
   ],
   "source": [
    "with open(\"iAmATextFile.txt\", \"a+\") as f:\n",
    "    f.seek(0)\n",
    "    print(f.read())"
   ]
  },
  {
   "cell_type": "code",
   "execution_count": 32,
   "id": "5cab72f3",
   "metadata": {},
   "outputs": [
    {
     "data": {
      "text/plain": [
       "'Jaljlsd'"
      ]
     },
     "execution_count": 32,
     "metadata": {},
     "output_type": "execute_result"
    }
   ],
   "source": [
    "\"jaljlsd\".capitalize()"
   ]
  },
  {
   "cell_type": "markdown",
   "id": "c28c4cde",
   "metadata": {},
   "source": [
    "Strings are immutable."
   ]
  },
  {
   "cell_type": "code",
   "execution_count": 37,
   "id": "5d9a0da9",
   "metadata": {},
   "outputs": [
    {
     "name": "stdout",
     "output_type": "stream",
     "text": [
      "hello\n"
     ]
    },
    {
     "ename": "TypeError",
     "evalue": "'str' object does not support item assignment",
     "output_type": "error",
     "traceback": [
      "\u001b[1;31m---------------------------------------------------------------------------\u001b[0m",
      "\u001b[1;31mTypeError\u001b[0m                                 Traceback (most recent call last)",
      "\u001b[1;32m<ipython-input-37-e56af5f13f61>\u001b[0m in \u001b[0;36m<module>\u001b[1;34m\u001b[0m\n\u001b[0;32m      1\u001b[0m \u001b[0mstrl\u001b[0m \u001b[1;33m=\u001b[0m \u001b[1;34m\"hello\"\u001b[0m\u001b[1;33m\u001b[0m\u001b[1;33m\u001b[0m\u001b[0m\n\u001b[0;32m      2\u001b[0m \u001b[0mprint\u001b[0m\u001b[1;33m(\u001b[0m\u001b[0mstrl\u001b[0m\u001b[1;33m[\u001b[0m\u001b[1;36m0\u001b[0m\u001b[1;33m:\u001b[0m\u001b[1;36m7\u001b[0m\u001b[1;33m]\u001b[0m\u001b[1;33m)\u001b[0m\u001b[1;33m\u001b[0m\u001b[1;33m\u001b[0m\u001b[0m\n\u001b[1;32m----> 3\u001b[1;33m \u001b[0mstrl\u001b[0m\u001b[1;33m[\u001b[0m\u001b[1;36m2\u001b[0m\u001b[1;33m]\u001b[0m \u001b[1;33m=\u001b[0m \u001b[1;34m\"a\"\u001b[0m\u001b[1;33m\u001b[0m\u001b[1;33m\u001b[0m\u001b[0m\n\u001b[0m",
      "\u001b[1;31mTypeError\u001b[0m: 'str' object does not support item assignment"
     ]
    }
   ],
   "source": [
    "strl = \"hello\"\n",
    "print(strl[0:7])\n",
    "strl[2] = \"a\"`"
   ]
  },
  {
   "cell_type": "code",
   "execution_count": null,
   "id": "6e841da5",
   "metadata": {},
   "outputs": [],
   "source": []
  },
  {
   "cell_type": "code",
   "execution_count": null,
   "id": "0b670cae",
   "metadata": {},
   "outputs": [],
   "source": []
  },
  {
   "cell_type": "code",
   "execution_count": null,
   "id": "3e64508a",
   "metadata": {},
   "outputs": [],
   "source": []
  },
  {
   "cell_type": "code",
   "execution_count": null,
   "id": "8bd0c7c9",
   "metadata": {},
   "outputs": [],
   "source": []
  }
 ],
 "metadata": {
  "kernelspec": {
   "display_name": "Python 3",
   "language": "python",
   "name": "python3"
  },
  "language_info": {
   "codemirror_mode": {
    "name": "ipython",
    "version": 3
   },
   "file_extension": ".py",
   "mimetype": "text/x-python",
   "name": "python",
   "nbconvert_exporter": "python",
   "pygments_lexer": "ipython3",
   "version": "3.8.8"
  }
 },
 "nbformat": 4,
 "nbformat_minor": 5
}
