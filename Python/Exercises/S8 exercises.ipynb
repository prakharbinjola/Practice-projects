{
 "cells": [
  {
   "cell_type": "code",
   "execution_count": 1,
   "id": "50a0f940",
   "metadata": {},
   "outputs": [],
   "source": [
    "import pandas as pd"
   ]
  },
  {
   "cell_type": "code",
   "execution_count": 2,
   "id": "fe404c9d",
   "metadata": {},
   "outputs": [
    {
     "data": {
      "text/plain": [
       "'1.3.5'"
      ]
     },
     "execution_count": 2,
     "metadata": {},
     "output_type": "execute_result"
    }
   ],
   "source": [
    "pd.__version__"
   ]
  },
  {
   "cell_type": "code",
   "execution_count": 3,
   "id": "27ed663f",
   "metadata": {},
   "outputs": [
    {
     "name": "stdout",
     "output_type": "stream",
     "text": [
      "['A', 'B', 'C', 'D']\n"
     ]
    },
    {
     "data": {
      "text/plain": [
       "list"
      ]
     },
     "execution_count": 3,
     "metadata": {},
     "output_type": "execute_result"
    }
   ],
   "source": [
    "products = ['A', 'B', 'C', 'D']\n",
    "print(products)\n",
    "type(products)"
   ]
  },
  {
   "cell_type": "code",
   "execution_count": 4,
   "id": "2c56ceb4",
   "metadata": {},
   "outputs": [],
   "source": [
    "product_categories = pd.Series(products)"
   ]
  },
  {
   "cell_type": "code",
   "execution_count": 5,
   "id": "7b407d27",
   "metadata": {},
   "outputs": [
    {
     "data": {
      "text/plain": [
       "0    A\n",
       "1    B\n",
       "2    C\n",
       "3    D\n",
       "dtype: object"
      ]
     },
     "execution_count": 5,
     "metadata": {},
     "output_type": "execute_result"
    }
   ],
   "source": [
    "product_categories"
   ]
  },
  {
   "cell_type": "code",
   "execution_count": 6,
   "id": "4b52c59c",
   "metadata": {},
   "outputs": [
    {
     "data": {
      "text/plain": [
       "pandas.core.series.Series"
      ]
     },
     "execution_count": 6,
     "metadata": {},
     "output_type": "execute_result"
    }
   ],
   "source": [
    "type(product_categories)"
   ]
  },
  {
   "cell_type": "code",
   "execution_count": 7,
   "id": "4d8b5934",
   "metadata": {},
   "outputs": [
    {
     "data": {
      "text/plain": [
       "0    23\n",
       "1    53\n",
       "2    74\n",
       "3    22\n",
       "dtype: int64"
      ]
     },
     "execution_count": 7,
     "metadata": {},
     "output_type": "execute_result"
    }
   ],
   "source": [
    "daily_rates_dollars = pd.Series([23, 53, 74, 22])\n",
    "daily_rates_dollars"
   ]
  },
  {
   "cell_type": "code",
   "execution_count": 8,
   "id": "d4b8c893",
   "metadata": {},
   "outputs": [
    {
     "name": "stdout",
     "output_type": "stream",
     "text": [
      "0    23\n",
      "1    53\n",
      "2    74\n",
      "3    22\n",
      "dtype: int64\n"
     ]
    }
   ],
   "source": [
    "print(daily_rates_dollars)"
   ]
  },
  {
   "cell_type": "code",
   "execution_count": 9,
   "id": "d586b0c1",
   "metadata": {},
   "outputs": [
    {
     "data": {
      "text/plain": [
       "dtype('int64')"
      ]
     },
     "execution_count": 9,
     "metadata": {},
     "output_type": "execute_result"
    }
   ],
   "source": [
    "daily_rates_dollars.dtype"
   ]
  },
  {
   "cell_type": "code",
   "execution_count": 10,
   "id": "479e8626",
   "metadata": {},
   "outputs": [],
   "source": [
    "import numpy as np"
   ]
  },
  {
   "cell_type": "code",
   "execution_count": 11,
   "id": "17a363f7",
   "metadata": {},
   "outputs": [
    {
     "data": {
      "text/plain": [
       "array([ 23,  24, 132,  52,  13,  52])"
      ]
     },
     "execution_count": 11,
     "metadata": {},
     "output_type": "execute_result"
    }
   ],
   "source": [
    "array_a = np.array([23,24,132,52,13,52])\n",
    "array_a"
   ]
  },
  {
   "cell_type": "code",
   "execution_count": 12,
   "id": "81ff7059",
   "metadata": {},
   "outputs": [
    {
     "data": {
      "text/plain": [
       "0     23\n",
       "1     24\n",
       "2    132\n",
       "3     52\n",
       "4     13\n",
       "5     52\n",
       "dtype: int32"
      ]
     },
     "execution_count": 12,
     "metadata": {},
     "output_type": "execute_result"
    }
   ],
   "source": [
    "series_a = pd.Series(array_a)\n",
    "series_a"
   ]
  },
  {
   "cell_type": "code",
   "execution_count": 13,
   "id": "6dd69c50",
   "metadata": {},
   "outputs": [
    {
     "data": {
      "text/plain": [
       "numpy.ndarray"
      ]
     },
     "execution_count": 13,
     "metadata": {},
     "output_type": "execute_result"
    }
   ],
   "source": [
    "type(array_a)"
   ]
  },
  {
   "cell_type": "code",
   "execution_count": 14,
   "id": "d7553ec1",
   "metadata": {},
   "outputs": [
    {
     "data": {
      "text/plain": [
       "pandas.core.series.Series"
      ]
     },
     "execution_count": 14,
     "metadata": {},
     "output_type": "execute_result"
    }
   ],
   "source": [
    "type(series_a)"
   ]
  },
  {
   "cell_type": "code",
   "execution_count": 15,
   "id": "fd47baf1",
   "metadata": {},
   "outputs": [
    {
     "data": {
      "text/plain": [
       "dtype('int32')"
      ]
     },
     "execution_count": 15,
     "metadata": {},
     "output_type": "execute_result"
    }
   ],
   "source": [
    "series_a.dtype"
   ]
  },
  {
   "cell_type": "code",
   "execution_count": 16,
   "id": "ec472dfb",
   "metadata": {},
   "outputs": [
    {
     "data": {
      "text/plain": [
       "6"
      ]
     },
     "execution_count": 16,
     "metadata": {},
     "output_type": "execute_result"
    }
   ],
   "source": [
    "series_a.size"
   ]
  },
  {
   "cell_type": "code",
   "execution_count": 17,
   "id": "a6526f45",
   "metadata": {},
   "outputs": [
    {
     "data": {
      "text/plain": [
       "dtype('O')"
      ]
     },
     "execution_count": 17,
     "metadata": {},
     "output_type": "execute_result"
    }
   ],
   "source": [
    "product_categories.dtype"
   ]
  },
  {
   "cell_type": "code",
   "execution_count": 18,
   "id": "bf47c52b",
   "metadata": {},
   "outputs": [
    {
     "data": {
      "text/plain": [
       "4"
      ]
     },
     "execution_count": 18,
     "metadata": {},
     "output_type": "execute_result"
    }
   ],
   "source": [
    "product_categories.size"
   ]
  },
  {
   "cell_type": "code",
   "execution_count": 19,
   "id": "54088d6e",
   "metadata": {},
   "outputs": [],
   "source": [
    "product_categories.name"
   ]
  },
  {
   "cell_type": "code",
   "execution_count": 20,
   "id": "7b3b7df6",
   "metadata": {},
   "outputs": [
    {
     "data": {
      "text/plain": [
       "0    A\n",
       "1    B\n",
       "2    C\n",
       "3    D\n",
       "Name: Product Categories, dtype: object"
      ]
     },
     "execution_count": 20,
     "metadata": {},
     "output_type": "execute_result"
    }
   ],
   "source": [
    "product_categories.name = 'Product Categories'\n",
    "product_categories"
   ]
  },
  {
   "cell_type": "code",
   "execution_count": 21,
   "id": "03573f9d",
   "metadata": {},
   "outputs": [
    {
     "data": {
      "text/plain": [
       "'Product Categories'"
      ]
     },
     "execution_count": 21,
     "metadata": {},
     "output_type": "execute_result"
    }
   ],
   "source": [
    "product_categories.name"
   ]
  },
  {
   "cell_type": "code",
   "execution_count": 22,
   "id": "daf95489",
   "metadata": {},
   "outputs": [
    {
     "data": {
      "text/plain": [
       "RangeIndex(start=0, stop=4, step=1)"
      ]
     },
     "execution_count": 22,
     "metadata": {},
     "output_type": "execute_result"
    }
   ],
   "source": [
    "product_categories.index"
   ]
  },
  {
   "cell_type": "code",
   "execution_count": 23,
   "id": "e8c6272f",
   "metadata": {},
   "outputs": [
    {
     "data": {
      "text/plain": [
       "str"
      ]
     },
     "execution_count": 23,
     "metadata": {},
     "output_type": "execute_result"
    }
   ],
   "source": [
    "type(product_categories.name)"
   ]
  },
  {
   "cell_type": "markdown",
   "id": "732e5336",
   "metadata": {},
   "source": [
    "Series attributes"
   ]
  },
  {
   "cell_type": "code",
   "execution_count": 24,
   "id": "daba8068",
   "metadata": {},
   "outputs": [
    {
     "data": {
      "text/plain": [
       "dtype('int32')"
      ]
     },
     "execution_count": 24,
     "metadata": {},
     "output_type": "execute_result"
    }
   ],
   "source": [
    "series_a.dtype"
   ]
  },
  {
   "cell_type": "code",
   "execution_count": 25,
   "id": "e3facbf1",
   "metadata": {},
   "outputs": [
    {
     "data": {
      "text/plain": [
       "6"
      ]
     },
     "execution_count": 25,
     "metadata": {},
     "output_type": "execute_result"
    }
   ],
   "source": [
    "series_a.size"
   ]
  },
  {
   "cell_type": "code",
   "execution_count": 26,
   "id": "8a233499",
   "metadata": {},
   "outputs": [
    {
     "data": {
      "text/plain": [
       "4"
      ]
     },
     "execution_count": 26,
     "metadata": {},
     "output_type": "execute_result"
    }
   ],
   "source": [
    "product_categories.size"
   ]
  },
  {
   "cell_type": "code",
   "execution_count": 27,
   "id": "68bc9ae3",
   "metadata": {},
   "outputs": [
    {
     "data": {
      "text/plain": [
       "int"
      ]
     },
     "execution_count": 27,
     "metadata": {},
     "output_type": "execute_result"
    }
   ],
   "source": [
    "type(product_categories.size)"
   ]
  },
  {
   "cell_type": "code",
   "execution_count": 28,
   "id": "b794e2f1",
   "metadata": {},
   "outputs": [
    {
     "data": {
      "text/plain": [
       "numpy.dtype[int32]"
      ]
     },
     "execution_count": 28,
     "metadata": {},
     "output_type": "execute_result"
    }
   ],
   "source": [
    "type(series_a.dtype)"
   ]
  },
  {
   "cell_type": "code",
   "execution_count": 29,
   "id": "766d1b7c",
   "metadata": {},
   "outputs": [
    {
     "data": {
      "text/plain": [
       "'Product Categories'"
      ]
     },
     "execution_count": 29,
     "metadata": {},
     "output_type": "execute_result"
    }
   ],
   "source": [
    "product_categories.name"
   ]
  },
  {
   "cell_type": "code",
   "execution_count": 30,
   "id": "963f2ba9",
   "metadata": {},
   "outputs": [],
   "source": [
    "product_categories.name = \"Product Categories\""
   ]
  },
  {
   "cell_type": "code",
   "execution_count": 31,
   "id": "7b293f17",
   "metadata": {},
   "outputs": [
    {
     "name": "stdout",
     "output_type": "stream",
     "text": [
      "Product Categories\n"
     ]
    }
   ],
   "source": [
    "print(product_categories.name)"
   ]
  },
  {
   "cell_type": "code",
   "execution_count": 32,
   "id": "e4faf35b",
   "metadata": {},
   "outputs": [
    {
     "name": "stdout",
     "output_type": "stream",
     "text": [
      "0    A\n",
      "1    B\n",
      "2    C\n",
      "3    D\n",
      "Name: Product Categories, dtype: object\n"
     ]
    }
   ],
   "source": [
    "print(product_categories)"
   ]
  },
  {
   "cell_type": "code",
   "execution_count": 33,
   "id": "de597fb6",
   "metadata": {},
   "outputs": [
    {
     "data": {
      "text/plain": [
       "{'Product A': 22324, 'Product B': 16600, 'Product C': 15600}"
      ]
     },
     "execution_count": 33,
     "metadata": {},
     "output_type": "execute_result"
    }
   ],
   "source": [
    "prices_per_category = {'Product A':22324, 'Product B':16600, 'Product C':15600}\n",
    "prices_per_category"
   ]
  },
  {
   "cell_type": "code",
   "execution_count": 34,
   "id": "5eab6b79",
   "metadata": {},
   "outputs": [
    {
     "data": {
      "text/plain": [
       "dict"
      ]
     },
     "execution_count": 34,
     "metadata": {},
     "output_type": "execute_result"
    }
   ],
   "source": [
    "type(prices_per_category)"
   ]
  },
  {
   "cell_type": "code",
   "execution_count": 35,
   "id": "95f4d99c",
   "metadata": {},
   "outputs": [
    {
     "data": {
      "text/plain": [
       "Product A    22324\n",
       "Product B    16600\n",
       "Product C    15600\n",
       "dtype: int64"
      ]
     },
     "execution_count": 35,
     "metadata": {},
     "output_type": "execute_result"
    }
   ],
   "source": [
    "prices_per_category = pd.Series(prices_per_category)\n",
    "prices_per_category"
   ]
  },
  {
   "cell_type": "code",
   "execution_count": 36,
   "id": "947b1637",
   "metadata": {},
   "outputs": [
    {
     "data": {
      "text/plain": [
       "pandas.core.series.Series"
      ]
     },
     "execution_count": 36,
     "metadata": {},
     "output_type": "execute_result"
    }
   ],
   "source": [
    "type(prices_per_category)"
   ]
  },
  {
   "cell_type": "code",
   "execution_count": 37,
   "id": "3dc2f2f9",
   "metadata": {},
   "outputs": [
    {
     "data": {
      "text/plain": [
       "Index(['Product A', 'Product B', 'Product C'], dtype='object')"
      ]
     },
     "execution_count": 37,
     "metadata": {},
     "output_type": "execute_result"
    }
   ],
   "source": [
    "prices_per_category.index"
   ]
  },
  {
   "cell_type": "code",
   "execution_count": 38,
   "id": "413f5be3",
   "metadata": {},
   "outputs": [
    {
     "data": {
      "text/plain": [
       "pandas.core.indexes.base.Index"
      ]
     },
     "execution_count": 38,
     "metadata": {},
     "output_type": "execute_result"
    }
   ],
   "source": [
    "type(prices_per_category.index)"
   ]
  },
  {
   "cell_type": "markdown",
   "id": "12f2be9b",
   "metadata": {},
   "source": [
    "Label-based vs Position-based Indexing"
   ]
  },
  {
   "cell_type": "code",
   "execution_count": 39,
   "id": "165a426b",
   "metadata": {},
   "outputs": [
    {
     "data": {
      "text/plain": [
       "0     23\n",
       "1     24\n",
       "2    132\n",
       "3     52\n",
       "4     13\n",
       "5     52\n",
       "dtype: int32"
      ]
     },
     "execution_count": 39,
     "metadata": {},
     "output_type": "execute_result"
    }
   ],
   "source": [
    "series_a"
   ]
  },
  {
   "cell_type": "code",
   "execution_count": 40,
   "id": "73c52ad6",
   "metadata": {},
   "outputs": [
    {
     "data": {
      "text/plain": [
       "RangeIndex(start=0, stop=6, step=1)"
      ]
     },
     "execution_count": 40,
     "metadata": {},
     "output_type": "execute_result"
    }
   ],
   "source": [
    "series_a.index"
   ]
  },
  {
   "cell_type": "code",
   "execution_count": 41,
   "id": "0117a561",
   "metadata": {},
   "outputs": [
    {
     "data": {
      "text/plain": [
       "pandas.core.indexes.range.RangeIndex"
      ]
     },
     "execution_count": 41,
     "metadata": {},
     "output_type": "execute_result"
    }
   ],
   "source": [
    "type(series_a.index)"
   ]
  },
  {
   "cell_type": "code",
   "execution_count": 42,
   "id": "17abc01c",
   "metadata": {},
   "outputs": [
    {
     "data": {
      "text/plain": [
       "[0, 1, 2, 3, 4, 5]"
      ]
     },
     "execution_count": 42,
     "metadata": {},
     "output_type": "execute_result"
    }
   ],
   "source": [
    "list(series_a.index) "
   ]
  },
  {
   "cell_type": "code",
   "execution_count": 43,
   "id": "4ca20107",
   "metadata": {},
   "outputs": [
    {
     "data": {
      "text/plain": [
       "Product A    22324\n",
       "Product B    16600\n",
       "Product C    15600\n",
       "dtype: int64"
      ]
     },
     "execution_count": 43,
     "metadata": {},
     "output_type": "execute_result"
    }
   ],
   "source": [
    "prices_per_category = pd.Series(prices_per_category)\n",
    "prices_per_category"
   ]
  },
  {
   "cell_type": "code",
   "execution_count": 44,
   "id": "dcd5c3b5",
   "metadata": {},
   "outputs": [
    {
     "data": {
      "text/plain": [
       "Index(['Product A', 'Product B', 'Product C'], dtype='object')"
      ]
     },
     "execution_count": 44,
     "metadata": {},
     "output_type": "execute_result"
    }
   ],
   "source": [
    "prices_per_category.index"
   ]
  },
  {
   "cell_type": "code",
   "execution_count": 45,
   "id": "5f38da7e",
   "metadata": {},
   "outputs": [
    {
     "data": {
      "text/plain": [
       "pandas.core.indexes.base.Index"
      ]
     },
     "execution_count": 45,
     "metadata": {},
     "output_type": "execute_result"
    }
   ],
   "source": [
    "type(prices_per_category.index)"
   ]
  },
  {
   "cell_type": "code",
   "execution_count": 46,
   "id": "079c5660",
   "metadata": {},
   "outputs": [
    {
     "name": "stdout",
     "output_type": "stream",
     "text": [
      "22324\n",
      "22324\n"
     ]
    }
   ],
   "source": [
    "print(prices_per_category[0])\n",
    "print(prices_per_category['Product A'])"
   ]
  },
  {
   "cell_type": "code",
   "execution_count": 47,
   "id": "5827d3f3",
   "metadata": {},
   "outputs": [
    {
     "data": {
      "text/plain": [
       "1    10\n",
       "2    20\n",
       "3    30\n",
       "4    40\n",
       "5    50\n",
       "dtype: int64"
      ]
     },
     "execution_count": 47,
     "metadata": {},
     "output_type": "execute_result"
    }
   ],
   "source": [
    "series_b = pd.Series([10,20,30,40,50], index = [1,2,3,4,5])\n",
    "series_b"
   ]
  },
  {
   "cell_type": "code",
   "execution_count": 48,
   "id": "7b7cc257",
   "metadata": {},
   "outputs": [
    {
     "ename": "KeyError",
     "evalue": "0",
     "output_type": "error",
     "traceback": [
      "\u001b[1;31m---------------------------------------------------------------------------\u001b[0m",
      "\u001b[1;31mKeyError\u001b[0m                                  Traceback (most recent call last)",
      "\u001b[1;32m~\\anaconda3\\lib\\site-packages\\pandas\\core\\indexes\\base.py\u001b[0m in \u001b[0;36mget_loc\u001b[1;34m(self, key, method, tolerance)\u001b[0m\n\u001b[0;32m   3360\u001b[0m             \u001b[1;32mtry\u001b[0m\u001b[1;33m:\u001b[0m\u001b[1;33m\u001b[0m\u001b[1;33m\u001b[0m\u001b[0m\n\u001b[1;32m-> 3361\u001b[1;33m                 \u001b[1;32mreturn\u001b[0m \u001b[0mself\u001b[0m\u001b[1;33m.\u001b[0m\u001b[0m_engine\u001b[0m\u001b[1;33m.\u001b[0m\u001b[0mget_loc\u001b[0m\u001b[1;33m(\u001b[0m\u001b[0mcasted_key\u001b[0m\u001b[1;33m)\u001b[0m\u001b[1;33m\u001b[0m\u001b[1;33m\u001b[0m\u001b[0m\n\u001b[0m\u001b[0;32m   3362\u001b[0m             \u001b[1;32mexcept\u001b[0m \u001b[0mKeyError\u001b[0m \u001b[1;32mas\u001b[0m \u001b[0merr\u001b[0m\u001b[1;33m:\u001b[0m\u001b[1;33m\u001b[0m\u001b[1;33m\u001b[0m\u001b[0m\n",
      "\u001b[1;32m~\\anaconda3\\lib\\site-packages\\pandas\\_libs\\index.pyx\u001b[0m in \u001b[0;36mpandas._libs.index.IndexEngine.get_loc\u001b[1;34m()\u001b[0m\n",
      "\u001b[1;32m~\\anaconda3\\lib\\site-packages\\pandas\\_libs\\index.pyx\u001b[0m in \u001b[0;36mpandas._libs.index.IndexEngine.get_loc\u001b[1;34m()\u001b[0m\n",
      "\u001b[1;32mpandas\\_libs\\hashtable_class_helper.pxi\u001b[0m in \u001b[0;36mpandas._libs.hashtable.Int64HashTable.get_item\u001b[1;34m()\u001b[0m\n",
      "\u001b[1;32mpandas\\_libs\\hashtable_class_helper.pxi\u001b[0m in \u001b[0;36mpandas._libs.hashtable.Int64HashTable.get_item\u001b[1;34m()\u001b[0m\n",
      "\u001b[1;31mKeyError\u001b[0m: 0",
      "\nThe above exception was the direct cause of the following exception:\n",
      "\u001b[1;31mKeyError\u001b[0m                                  Traceback (most recent call last)",
      "\u001b[1;32m<ipython-input-48-d087c89cfe46>\u001b[0m in \u001b[0;36m<module>\u001b[1;34m\u001b[0m\n\u001b[1;32m----> 1\u001b[1;33m \u001b[0mseries_b\u001b[0m\u001b[1;33m[\u001b[0m\u001b[1;36m0\u001b[0m\u001b[1;33m]\u001b[0m  \u001b[1;31m#Assigning integers as keys will not give you an implicit index\u001b[0m\u001b[1;33m\u001b[0m\u001b[1;33m\u001b[0m\u001b[0m\n\u001b[0m",
      "\u001b[1;32m~\\anaconda3\\lib\\site-packages\\pandas\\core\\series.py\u001b[0m in \u001b[0;36m__getitem__\u001b[1;34m(self, key)\u001b[0m\n\u001b[0;32m    940\u001b[0m \u001b[1;33m\u001b[0m\u001b[0m\n\u001b[0;32m    941\u001b[0m         \u001b[1;32melif\u001b[0m \u001b[0mkey_is_scalar\u001b[0m\u001b[1;33m:\u001b[0m\u001b[1;33m\u001b[0m\u001b[1;33m\u001b[0m\u001b[0m\n\u001b[1;32m--> 942\u001b[1;33m             \u001b[1;32mreturn\u001b[0m \u001b[0mself\u001b[0m\u001b[1;33m.\u001b[0m\u001b[0m_get_value\u001b[0m\u001b[1;33m(\u001b[0m\u001b[0mkey\u001b[0m\u001b[1;33m)\u001b[0m\u001b[1;33m\u001b[0m\u001b[1;33m\u001b[0m\u001b[0m\n\u001b[0m\u001b[0;32m    943\u001b[0m \u001b[1;33m\u001b[0m\u001b[0m\n\u001b[0;32m    944\u001b[0m         \u001b[1;32mif\u001b[0m \u001b[0mis_hashable\u001b[0m\u001b[1;33m(\u001b[0m\u001b[0mkey\u001b[0m\u001b[1;33m)\u001b[0m\u001b[1;33m:\u001b[0m\u001b[1;33m\u001b[0m\u001b[1;33m\u001b[0m\u001b[0m\n",
      "\u001b[1;32m~\\anaconda3\\lib\\site-packages\\pandas\\core\\series.py\u001b[0m in \u001b[0;36m_get_value\u001b[1;34m(self, label, takeable)\u001b[0m\n\u001b[0;32m   1049\u001b[0m \u001b[1;33m\u001b[0m\u001b[0m\n\u001b[0;32m   1050\u001b[0m         \u001b[1;31m# Similar to Index.get_value, but we do not fall back to positional\u001b[0m\u001b[1;33m\u001b[0m\u001b[1;33m\u001b[0m\u001b[1;33m\u001b[0m\u001b[0m\n\u001b[1;32m-> 1051\u001b[1;33m         \u001b[0mloc\u001b[0m \u001b[1;33m=\u001b[0m \u001b[0mself\u001b[0m\u001b[1;33m.\u001b[0m\u001b[0mindex\u001b[0m\u001b[1;33m.\u001b[0m\u001b[0mget_loc\u001b[0m\u001b[1;33m(\u001b[0m\u001b[0mlabel\u001b[0m\u001b[1;33m)\u001b[0m\u001b[1;33m\u001b[0m\u001b[1;33m\u001b[0m\u001b[0m\n\u001b[0m\u001b[0;32m   1052\u001b[0m         \u001b[1;32mreturn\u001b[0m \u001b[0mself\u001b[0m\u001b[1;33m.\u001b[0m\u001b[0mindex\u001b[0m\u001b[1;33m.\u001b[0m\u001b[0m_get_values_for_loc\u001b[0m\u001b[1;33m(\u001b[0m\u001b[0mself\u001b[0m\u001b[1;33m,\u001b[0m \u001b[0mloc\u001b[0m\u001b[1;33m,\u001b[0m \u001b[0mlabel\u001b[0m\u001b[1;33m)\u001b[0m\u001b[1;33m\u001b[0m\u001b[1;33m\u001b[0m\u001b[0m\n\u001b[0;32m   1053\u001b[0m \u001b[1;33m\u001b[0m\u001b[0m\n",
      "\u001b[1;32m~\\anaconda3\\lib\\site-packages\\pandas\\core\\indexes\\base.py\u001b[0m in \u001b[0;36mget_loc\u001b[1;34m(self, key, method, tolerance)\u001b[0m\n\u001b[0;32m   3361\u001b[0m                 \u001b[1;32mreturn\u001b[0m \u001b[0mself\u001b[0m\u001b[1;33m.\u001b[0m\u001b[0m_engine\u001b[0m\u001b[1;33m.\u001b[0m\u001b[0mget_loc\u001b[0m\u001b[1;33m(\u001b[0m\u001b[0mcasted_key\u001b[0m\u001b[1;33m)\u001b[0m\u001b[1;33m\u001b[0m\u001b[1;33m\u001b[0m\u001b[0m\n\u001b[0;32m   3362\u001b[0m             \u001b[1;32mexcept\u001b[0m \u001b[0mKeyError\u001b[0m \u001b[1;32mas\u001b[0m \u001b[0merr\u001b[0m\u001b[1;33m:\u001b[0m\u001b[1;33m\u001b[0m\u001b[1;33m\u001b[0m\u001b[0m\n\u001b[1;32m-> 3363\u001b[1;33m                 \u001b[1;32mraise\u001b[0m \u001b[0mKeyError\u001b[0m\u001b[1;33m(\u001b[0m\u001b[0mkey\u001b[0m\u001b[1;33m)\u001b[0m \u001b[1;32mfrom\u001b[0m \u001b[0merr\u001b[0m\u001b[1;33m\u001b[0m\u001b[1;33m\u001b[0m\u001b[0m\n\u001b[0m\u001b[0;32m   3364\u001b[0m \u001b[1;33m\u001b[0m\u001b[0m\n\u001b[0;32m   3365\u001b[0m         \u001b[1;32mif\u001b[0m \u001b[0mis_scalar\u001b[0m\u001b[1;33m(\u001b[0m\u001b[0mkey\u001b[0m\u001b[1;33m)\u001b[0m \u001b[1;32mand\u001b[0m \u001b[0misna\u001b[0m\u001b[1;33m(\u001b[0m\u001b[0mkey\u001b[0m\u001b[1;33m)\u001b[0m \u001b[1;32mand\u001b[0m \u001b[1;32mnot\u001b[0m \u001b[0mself\u001b[0m\u001b[1;33m.\u001b[0m\u001b[0mhasnans\u001b[0m\u001b[1;33m:\u001b[0m\u001b[1;33m\u001b[0m\u001b[1;33m\u001b[0m\u001b[0m\n",
      "\u001b[1;31mKeyError\u001b[0m: 0"
     ]
    }
   ],
   "source": [
    "series_b[0]  #Assigning integers as keys will not give you an implicit index"
   ]
  },
  {
   "cell_type": "code",
   "execution_count": null,
   "id": "4abc5fa7",
   "metadata": {},
   "outputs": [],
   "source": [
    "series_b[1]"
   ]
  },
  {
   "cell_type": "code",
   "execution_count": null,
   "id": "2c8c53c1",
   "metadata": {},
   "outputs": [],
   "source": [
    "series_c = pd.Series([10,20,30,40,50], index = ['1','2','3','4','5'])\n",
    "series_c"
   ]
  },
  {
   "cell_type": "code",
   "execution_count": null,
   "id": "bbb71d88",
   "metadata": {},
   "outputs": [],
   "source": [
    "series_c[1] #Index values are strings, therefore we get implicit indexing"
   ]
  },
  {
   "cell_type": "code",
   "execution_count": null,
   "id": "a52d4f65",
   "metadata": {},
   "outputs": [],
   "source": [
    "series_c['1']"
   ]
  },
  {
   "cell_type": "markdown",
   "id": "bfdfd28e",
   "metadata": {},
   "source": [
    "Pandas series methods"
   ]
  },
  {
   "cell_type": "code",
   "execution_count": null,
   "id": "1d1edc6a",
   "metadata": {},
   "outputs": [],
   "source": [
    "start_date_deposits = pd.Series({\n",
    "    '7/4/2014'   : 2000,\n",
    "    '1/2/2015'   : 2000,\n",
    "    '12/8/2012'  : 1000,\n",
    "    '2/20/2015'  : 2000,\n",
    "    '10/28/2013' : 2000,\n",
    "    '4/19/2015'  : 2000,\n",
    "    '7/4/2016'   : 2000,\n",
    "    '4/24/2014'  : 2000,\n",
    "    '9/3/2015'   : 4000,\n",
    "    '7/25/2016'  : 2000,\n",
    "    '5/1/2014'   : 2000,\n",
    "    '3/29/2013'  : 2000,\n",
    "    '10/3/2014'  : 2000,\n",
    "    '9/18/2015'  : 2500\n",
    "})\n",
    "start_date_deposits"
   ]
  },
  {
   "cell_type": "code",
   "execution_count": null,
   "id": "2139616f",
   "metadata": {},
   "outputs": [],
   "source": [
    "start_date_deposits.sum()"
   ]
  },
  {
   "cell_type": "code",
   "execution_count": null,
   "id": "e542fb6b",
   "metadata": {},
   "outputs": [],
   "source": [
    "start_date_deposits.min()"
   ]
  },
  {
   "cell_type": "code",
   "execution_count": null,
   "id": "34c8ce09",
   "metadata": {},
   "outputs": [],
   "source": [
    "start_date_deposits.max()"
   ]
  },
  {
   "cell_type": "code",
   "execution_count": null,
   "id": "9a14fc23",
   "metadata": {},
   "outputs": [],
   "source": [
    "start_date_deposits.idxmax()"
   ]
  },
  {
   "cell_type": "code",
   "execution_count": null,
   "id": "79bf78da",
   "metadata": {},
   "outputs": [],
   "source": [
    "start_date_deposits.idxmin()"
   ]
  },
  {
   "cell_type": "markdown",
   "id": "2c4b7bb6",
   "metadata": {},
   "source": [
    "Non-mathematical methods"
   ]
  },
  {
   "cell_type": "code",
   "execution_count": null,
   "id": "6fb67a62",
   "metadata": {},
   "outputs": [],
   "source": [
    "start_date_deposits.head()"
   ]
  },
  {
   "cell_type": "code",
   "execution_count": null,
   "id": "190f4664",
   "metadata": {},
   "outputs": [],
   "source": [
    "start_date_deposits.tail()"
   ]
  },
  {
   "cell_type": "code",
   "execution_count": null,
   "id": "e19860f5",
   "metadata": {},
   "outputs": [],
   "source": [
    "start_date_deposits.head(3)"
   ]
  },
  {
   "cell_type": "code",
   "execution_count": null,
   "id": "c2ca5e51",
   "metadata": {},
   "outputs": [],
   "source": [
    "start_date_deposits.head(n = 3) #Using parameter names"
   ]
  },
  {
   "cell_type": "markdown",
   "id": "b8f6d63e",
   "metadata": {},
   "source": [
    "Dataframes"
   ]
  },
  {
   "cell_type": "code",
   "execution_count": null,
   "id": "68756599",
   "metadata": {},
   "outputs": [],
   "source": [
    "data = {'ProductName': ['Product A', 'Product B', 'Product C'],\\\n",
    "       'ProductPrice': [22250, 16600, 12500]}\n",
    "df = pd.DataFrame(data)\n",
    "df"
   ]
  },
  {
   "cell_type": "code",
   "execution_count": null,
   "id": "ffa41767",
   "metadata": {},
   "outputs": [],
   "source": [
    "data = {'ProductName': ['Product A', 'Product B', 'Product C'],\\\n",
    "       'ProductPrice': [22250, 16600, 12500]}\n",
    "df = pd.DataFrame(data, index = ['A', 'B', 'C'])\n",
    "df"
   ]
  },
  {
   "cell_type": "code",
   "execution_count": null,
   "id": "e44cf26b",
   "metadata": {},
   "outputs": [],
   "source": [
    "data = {'ProductName': ['Product A', 'Product B', 'Product C'],\\\n",
    "       'ProductPrice': [22250, 16600, 12500]}\n",
    "product_IDs = ['A', 'B', 'C']\n",
    "df = pd.DataFrame(data, index = product_IDs)\n",
    "df"
   ]
  },
  {
   "cell_type": "markdown",
   "id": "67c08cbd",
   "metadata": {},
   "source": [
    "DataFrame from list of dictionaries"
   ]
  },
  {
   "cell_type": "code",
   "execution_count": null,
   "id": "87fef4d8",
   "metadata": {},
   "outputs": [],
   "source": [
    "# Each dictionary represents one row or one record\n",
    "data = [{'ProductName': 'Product A','ProductPrice': 22250},\n",
    "        {'ProductName': 'Product B','ProductPrice': 16600},\n",
    "        {'ProductName': 'Product C','ProductPrice': 12500}\n",
    "       ]\n",
    "product_IDs = ['A', 'B', 'C']\n",
    "df = pd.DataFrame(data, index = product_IDs)\n",
    "df"
   ]
  },
  {
   "cell_type": "code",
   "execution_count": 49,
   "id": "114b8990",
   "metadata": {},
   "outputs": [
    {
     "name": "stdout",
     "output_type": "stream",
     "text": [
      "  ProductName  ProductPrices\n",
      "A   Product A          22250\n",
      "B   Product B          16600\n",
      "C   Product C          12500\n"
     ]
    }
   ],
   "source": [
    "ser_products = pd.Series(['Product A', 'Product B', 'Product C'], index = ['A', 'B', 'C'])\n",
    "ser_prices = pd.Series([22250, 16600, 12500], index = ['A', 'B', 'C'])\n",
    "\n",
    "data = {'ProductName': ser_products, 'ProductPrices': ser_prices}\n",
    "df = pd.DataFrame(data)\n",
    "print(df)"
   ]
  },
  {
   "cell_type": "code",
   "execution_count": 58,
   "id": "7fbf530e",
   "metadata": {},
   "outputs": [
    {
     "data": {
      "text/html": [
       "<div>\n",
       "<style scoped>\n",
       "    .dataframe tbody tr th:only-of-type {\n",
       "        vertical-align: middle;\n",
       "    }\n",
       "\n",
       "    .dataframe tbody tr th {\n",
       "        vertical-align: top;\n",
       "    }\n",
       "\n",
       "    .dataframe thead th {\n",
       "        text-align: right;\n",
       "    }\n",
       "</style>\n",
       "<table border=\"1\" class=\"dataframe\">\n",
       "  <thead>\n",
       "    <tr style=\"text-align: right;\">\n",
       "      <th></th>\n",
       "      <th>0</th>\n",
       "      <th>1</th>\n",
       "    </tr>\n",
       "  </thead>\n",
       "  <tbody>\n",
       "    <tr>\n",
       "      <th>0</th>\n",
       "      <td>Product A</td>\n",
       "      <td>22250</td>\n",
       "    </tr>\n",
       "    <tr>\n",
       "      <th>1</th>\n",
       "      <td>Product B</td>\n",
       "      <td>16600</td>\n",
       "    </tr>\n",
       "    <tr>\n",
       "      <th>2</th>\n",
       "      <td>Product C</td>\n",
       "      <td>12500</td>\n",
       "    </tr>\n",
       "  </tbody>\n",
       "</table>\n",
       "</div>"
      ],
      "text/plain": [
       "           0      1\n",
       "0  Product A  22250\n",
       "1  Product B  16600\n",
       "2  Product C  12500"
      ]
     },
     "execution_count": 58,
     "metadata": {},
     "output_type": "execute_result"
    }
   ],
   "source": [
    "#DataFrome from lists\n",
    "data = [['Product A', 22250], ['Product B', 16600], ['Product C', 12500]]\n",
    "df = pd.DataFrame(data)\n",
    "df"
   ]
  },
  {
   "cell_type": "code",
   "execution_count": 61,
   "id": "434b7196",
   "metadata": {},
   "outputs": [
    {
     "data": {
      "text/html": [
       "<div>\n",
       "<style scoped>\n",
       "    .dataframe tbody tr th:only-of-type {\n",
       "        vertical-align: middle;\n",
       "    }\n",
       "\n",
       "    .dataframe tbody tr th {\n",
       "        vertical-align: top;\n",
       "    }\n",
       "\n",
       "    .dataframe thead th {\n",
       "        text-align: right;\n",
       "    }\n",
       "</style>\n",
       "<table border=\"1\" class=\"dataframe\">\n",
       "  <thead>\n",
       "    <tr style=\"text-align: right;\">\n",
       "      <th></th>\n",
       "      <th>ProductName</th>\n",
       "      <th>ProductPrice</th>\n",
       "    </tr>\n",
       "  </thead>\n",
       "  <tbody>\n",
       "    <tr>\n",
       "      <th>0</th>\n",
       "      <td>Product A</td>\n",
       "      <td>22250</td>\n",
       "    </tr>\n",
       "    <tr>\n",
       "      <th>1</th>\n",
       "      <td>Product B</td>\n",
       "      <td>16600</td>\n",
       "    </tr>\n",
       "    <tr>\n",
       "      <th>2</th>\n",
       "      <td>Product C</td>\n",
       "      <td>12500</td>\n",
       "    </tr>\n",
       "  </tbody>\n",
       "</table>\n",
       "</div>"
      ],
      "text/plain": [
       "  ProductName  ProductPrice\n",
       "0   Product A         22250\n",
       "1   Product B         16600\n",
       "2   Product C         12500"
      ]
     },
     "execution_count": 61,
     "metadata": {},
     "output_type": "execute_result"
    }
   ],
   "source": [
    "df.columns = ['ProductName', 'ProductPrice']\n",
    "df"
   ]
  },
  {
   "cell_type": "code",
   "execution_count": 62,
   "id": "b16e0f53",
   "metadata": {},
   "outputs": [
    {
     "data": {
      "text/html": [
       "<div>\n",
       "<style scoped>\n",
       "    .dataframe tbody tr th:only-of-type {\n",
       "        vertical-align: middle;\n",
       "    }\n",
       "\n",
       "    .dataframe tbody tr th {\n",
       "        vertical-align: top;\n",
       "    }\n",
       "\n",
       "    .dataframe thead th {\n",
       "        text-align: right;\n",
       "    }\n",
       "</style>\n",
       "<table border=\"1\" class=\"dataframe\">\n",
       "  <thead>\n",
       "    <tr style=\"text-align: right;\">\n",
       "      <th></th>\n",
       "      <th>ProductName</th>\n",
       "      <th>ProductPrice</th>\n",
       "    </tr>\n",
       "  </thead>\n",
       "  <tbody>\n",
       "    <tr>\n",
       "      <th>A</th>\n",
       "      <td>Product A</td>\n",
       "      <td>22250</td>\n",
       "    </tr>\n",
       "    <tr>\n",
       "      <th>B</th>\n",
       "      <td>Product B</td>\n",
       "      <td>16600</td>\n",
       "    </tr>\n",
       "    <tr>\n",
       "      <th>C</th>\n",
       "      <td>Product C</td>\n",
       "      <td>12500</td>\n",
       "    </tr>\n",
       "  </tbody>\n",
       "</table>\n",
       "</div>"
      ],
      "text/plain": [
       "  ProductName  ProductPrice\n",
       "A   Product A         22250\n",
       "B   Product B         16600\n",
       "C   Product C         12500"
      ]
     },
     "execution_count": 62,
     "metadata": {},
     "output_type": "execute_result"
    }
   ],
   "source": [
    "df.index = ['A', 'B', 'C']\n",
    "df"
   ]
  },
  {
   "cell_type": "code",
   "execution_count": 63,
   "id": "85ed21c4",
   "metadata": {},
   "outputs": [
    {
     "data": {
      "text/html": [
       "<div>\n",
       "<style scoped>\n",
       "    .dataframe tbody tr th:only-of-type {\n",
       "        vertical-align: middle;\n",
       "    }\n",
       "\n",
       "    .dataframe tbody tr th {\n",
       "        vertical-align: top;\n",
       "    }\n",
       "\n",
       "    .dataframe thead th {\n",
       "        text-align: right;\n",
       "    }\n",
       "</style>\n",
       "<table border=\"1\" class=\"dataframe\">\n",
       "  <thead>\n",
       "    <tr style=\"text-align: right;\">\n",
       "      <th></th>\n",
       "      <th>ProductName</th>\n",
       "      <th>ProductPrice</th>\n",
       "    </tr>\n",
       "  </thead>\n",
       "  <tbody>\n",
       "    <tr>\n",
       "      <th>A</th>\n",
       "      <td>Product A</td>\n",
       "      <td>22250</td>\n",
       "    </tr>\n",
       "    <tr>\n",
       "      <th>B</th>\n",
       "      <td>Product B</td>\n",
       "      <td>16600</td>\n",
       "    </tr>\n",
       "    <tr>\n",
       "      <th>C</th>\n",
       "      <td>Product C</td>\n",
       "      <td>12500</td>\n",
       "    </tr>\n",
       "  </tbody>\n",
       "</table>\n",
       "</div>"
      ],
      "text/plain": [
       "  ProductName  ProductPrice\n",
       "A   Product A         22250\n",
       "B   Product B         16600\n",
       "C   Product C         12500"
      ]
     },
     "execution_count": 63,
     "metadata": {},
     "output_type": "execute_result"
    }
   ],
   "source": [
    "df = pd.DataFrame(data = [['Product A', 22250], ['Product B', 16600], ['Product C', 12500]],\n",
    "                  columns = ['ProductName', 'ProductPrice'],\n",
    "                  index = ['A', 'B', 'C'])\n",
    "df"
   ]
  },
  {
   "cell_type": "code",
   "execution_count": 64,
   "id": "99402dd2",
   "metadata": {},
   "outputs": [
    {
     "data": {
      "text/plain": [
       "(3, 2)"
      ]
     },
     "execution_count": 64,
     "metadata": {},
     "output_type": "execute_result"
    }
   ],
   "source": [
    "df.shape"
   ]
  },
  {
   "cell_type": "code",
   "execution_count": 65,
   "id": "c3d22b73",
   "metadata": {},
   "outputs": [
    {
     "data": {
      "text/plain": [
       "ProductName     Product A\n",
       "ProductPrice        12500\n",
       "dtype: object"
      ]
     },
     "execution_count": 65,
     "metadata": {},
     "output_type": "execute_result"
    }
   ],
   "source": [
    "df.min()"
   ]
  },
  {
   "cell_type": "code",
   "execution_count": 70,
   "id": "e73a91b0",
   "metadata": {},
   "outputs": [
    {
     "data": {
      "text/plain": [
       "ProductName     Product AProduct BProduct C\n",
       "ProductPrice                          51350\n",
       "dtype: object"
      ]
     },
     "execution_count": 70,
     "metadata": {},
     "output_type": "execute_result"
    }
   ],
   "source": [
    "df.sum()"
   ]
  },
  {
   "cell_type": "code",
   "execution_count": 69,
   "id": "a7b02619",
   "metadata": {},
   "outputs": [
    {
     "data": {
      "text/plain": [
       "51350"
      ]
     },
     "execution_count": 69,
     "metadata": {},
     "output_type": "execute_result"
    }
   ],
   "source": [
    "df['ProductPrice'].sum()"
   ]
  },
  {
   "cell_type": "code",
   "execution_count": null,
   "id": "feb54db5",
   "metadata": {},
   "outputs": [],
   "source": []
  }
 ],
 "metadata": {
  "kernelspec": {
   "display_name": "Python 3",
   "language": "python",
   "name": "python3"
  },
  "language_info": {
   "codemirror_mode": {
    "name": "ipython",
    "version": 3
   },
   "file_extension": ".py",
   "mimetype": "text/x-python",
   "name": "python",
   "nbconvert_exporter": "python",
   "pygments_lexer": "ipython3",
   "version": "3.8.8"
  }
 },
 "nbformat": 4,
 "nbformat_minor": 5
}
