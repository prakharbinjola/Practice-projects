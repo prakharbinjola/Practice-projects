{
 "cells": [
  {
   "cell_type": "markdown",
   "id": "c29da312",
   "metadata": {},
   "source": [
    "Using .format() method"
   ]
  },
  {
   "cell_type": "code",
   "execution_count": 1,
   "id": "03876835",
   "metadata": {},
   "outputs": [],
   "source": [
    "time_horizon = 1, 3, 12\n",
    "products = ['Product A', 'Product B']"
   ]
  },
  {
   "cell_type": "code",
   "execution_count": 3,
   "id": "8e1cd417",
   "metadata": {},
   "outputs": [
    {
     "data": {
      "text/plain": [
       "'Expected sales for a period of 12 month(s) for Product A'"
      ]
     },
     "execution_count": 3,
     "metadata": {},
     "output_type": "execute_result"
    }
   ],
   "source": [
    "'Expected sales for a period of {} month(s) for {}'.format(12,'Product A')"
   ]
  },
  {
   "cell_type": "code",
   "execution_count": 5,
   "id": "491df9a1",
   "metadata": {},
   "outputs": [
    {
     "data": {
      "text/plain": [
       "\"Expected sales for a period of (1, 3, 12) month(s) for ['Product A', 'Product B']\""
      ]
     },
     "execution_count": 5,
     "metadata": {},
     "output_type": "execute_result"
    }
   ],
   "source": [
    "'Expected sales for a period of {} month(s) for {}'.format(time_horizon, products)"
   ]
  },
  {
   "cell_type": "code",
   "execution_count": 7,
   "id": "8db9bc69",
   "metadata": {},
   "outputs": [
    {
     "data": {
      "text/plain": [
       "'Expected sales for a period of 12 month(s) for Product A'"
      ]
     },
     "execution_count": 7,
     "metadata": {},
     "output_type": "execute_result"
    }
   ],
   "source": [
    "'Expected sales for a period of {} month(s) for {}'.format(time_horizon[2], products[0])"
   ]
  },
  {
   "cell_type": "code",
   "execution_count": 11,
   "id": "218b7ed8",
   "metadata": {},
   "outputs": [
    {
     "data": {
      "text/plain": [
       "'Expected sales for a period of 12 month(s) for Product A'"
      ]
     },
     "execution_count": 11,
     "metadata": {},
     "output_type": "execute_result"
    }
   ],
   "source": [
    "#Using f-strings\n",
    "f'Expected sales for a period of {time_horizon[2]} month(s) for {products[0]}'"
   ]
  },
  {
   "cell_type": "code",
   "execution_count": 12,
   "id": "f9a4fcaf",
   "metadata": {},
   "outputs": [
    {
     "data": {
      "text/plain": [
       "'Expected sales for a period of 12 month(s) for Product A'"
      ]
     },
     "execution_count": 12,
     "metadata": {},
     "output_type": "execute_result"
    }
   ],
   "source": [
    "#Positional arguments\n",
    "'Expected sales for a period of {0} month(s) for {1}'.format(time_horizon[2], products[0])"
   ]
  },
  {
   "cell_type": "code",
   "execution_count": 14,
   "id": "17342972",
   "metadata": {},
   "outputs": [
    {
     "data": {
      "text/plain": [
       "'Expected sales for a period of Product A month(s) for 12'"
      ]
     },
     "execution_count": 14,
     "metadata": {},
     "output_type": "execute_result"
    }
   ],
   "source": [
    "#Changing positional arguments\n",
    "'Expected sales for a period of {1} month(s) for {0}'.format(time_horizon[2], products[0])"
   ]
  },
  {
   "cell_type": "code",
   "execution_count": 16,
   "id": "dc6fa768",
   "metadata": {},
   "outputs": [
    {
     "data": {
      "text/plain": [
       "'Expected sales for a period of 12 month(s) for Product A'"
      ]
     },
     "execution_count": 16,
     "metadata": {},
     "output_type": "execute_result"
    }
   ],
   "source": [
    "#keyword arguments (key value pair)\n",
    "'Expected sales for a period of {t_hor} month(s) for {prod}'.format(t_hor = time_horizon[2], prod = products[0])"
   ]
  },
  {
   "cell_type": "code",
   "execution_count": 22,
   "id": "e09dcc1c",
   "metadata": {},
   "outputs": [
    {
     "data": {
      "text/plain": [
       "\"Expected sales for a period of 12 month(s) for ('Product A', 'Product B')\""
      ]
     },
     "execution_count": 22,
     "metadata": {},
     "output_type": "execute_result"
    }
   ],
   "source": [
    "'Expected sales for a period of {t_hor} month(s) for {prod}'.format(\n",
    "    t_hor = time_horizon[2],\n",
    "    prod = ('Product A', 'Product B'))"
   ]
  },
  {
   "cell_type": "code",
   "execution_count": 23,
   "id": "92685305",
   "metadata": {},
   "outputs": [
    {
     "data": {
      "text/plain": [
       "\"Expected sales for a period of 12 month(s) for ['Product A', 'Product B']\""
      ]
     },
     "execution_count": 23,
     "metadata": {},
     "output_type": "execute_result"
    }
   ],
   "source": [
    "'Expected sales for a period of {t_hor} month(s) for {prod}'.format(\n",
    "    t_hor = time_horizon[2],\n",
    "    prod = ['Product A', 'Product B'])"
   ]
  },
  {
   "cell_type": "code",
   "execution_count": 25,
   "id": "640bd64a",
   "metadata": {},
   "outputs": [
    {
     "data": {
      "text/plain": [
       "'Expected sales for a period of 12 month(s) for Product A'"
      ]
     },
     "execution_count": 25,
     "metadata": {},
     "output_type": "execute_result"
    }
   ],
   "source": [
    "'Expected sales for a period of {t_hor[2]} month(s) for {prod[0]}'.format(\n",
    "    t_hor = time_horizon,\n",
    "    prod = products)"
   ]
  },
  {
   "cell_type": "code",
   "execution_count": 26,
   "id": "b5b7803b",
   "metadata": {},
   "outputs": [
    {
     "data": {
      "text/plain": [
       "'Expected sales for a period of 12 month(s) for Product A: $10000'"
      ]
     },
     "execution_count": 26,
     "metadata": {},
     "output_type": "execute_result"
    }
   ],
   "source": [
    "'Expected sales for a period of {t_hor[2]} month(s) for {prod[0]}: ${sales}'.format(\n",
    "    t_hor = time_horizon,\n",
    "    prod = products,\n",
    "    sales = 10000)"
   ]
  },
  {
   "cell_type": "code",
   "execution_count": 29,
   "id": "df1e9143",
   "metadata": {},
   "outputs": [
    {
     "data": {
      "text/plain": [
       "'Expected sales for a period of 12 month(s) for Product A: $10000'"
      ]
     },
     "execution_count": 29,
     "metadata": {},
     "output_type": "execute_result"
    }
   ],
   "source": [
    "#Using both positional and keyword arguments at the same time\n",
    "'Expected sales for a period of {0} month(s) for {prod[0]}: ${sales}'.format(\n",
    "    time_horizon[2],\n",
    "    prod = products,\n",
    "    sales = 10000)"
   ]
  }
 ],
 "metadata": {
  "kernelspec": {
   "display_name": "Python 3",
   "language": "python",
   "name": "python3"
  },
  "language_info": {
   "codemirror_mode": {
    "name": "ipython",
    "version": 3
   },
   "file_extension": ".py",
   "mimetype": "text/x-python",
   "name": "python",
   "nbconvert_exporter": "python",
   "pygments_lexer": "ipython3",
   "version": "3.8.8"
  }
 },
 "nbformat": 4,
 "nbformat_minor": 5
}
